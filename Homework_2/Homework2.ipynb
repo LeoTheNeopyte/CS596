{
 "cells": [
  {
   "cell_type": "code",
   "execution_count": 45,
   "metadata": {},
   "outputs": [
    {
     "name": "stdout",
     "output_type": "stream",
     "text": [
      "iteration:0, delta:82\n",
      "iteration:1, delta:177.0\n",
      "iteration:2, delta:418.5\n",
      "iteration:3, delta:1110.0\n",
      "iteration:4, delta:3678.75\n",
      "iteration:5, delta:12448.125\n",
      "iteration:6, delta:23959.6875\n",
      "iteration:7, delta:21199.21875\n",
      "iteration:8, delta:17694.140625\n",
      "iteration:9, delta:43410.9375\n",
      "iteration:10, delta:146511.9140625\n",
      "iteration:11, delta:113953.7109375\n",
      "estimation error:0.0\n"
     ]
    },
    {
     "data": {
      "image/png": "[encoded data removed]",
      "text/plain": [
       "<matplotlib.figure.Figure at 0x10f7b0a58>"
      ]
     },
     "metadata": {},
     "output_type": "display_data"
    }
   ],
   "source": [
    "import numpy as np\n",
    "import matplotlib.pyplot as plt\n",
    "\n",
    "\n",
    "\n",
    "# Starting codes for the HA2 of CS596\n",
    "\n",
    "# Fill in the codes between \"%PLACEHOLDER#start\" and \"PLACEHOLDER#end\"\n",
    "\n",
    "# Ground-truth Cashier \n",
    "groundUnitPrice = np.array([20, 25, 8]) # for fish, chip, and ketchup, respectively\n",
    "\n",
    "# step 1: initialize your guess on the unit prices of fish, chip and ketchup.\n",
    "estimatedUnitPrice = np.array([10,10,10]) # initial unit prices.\n",
    "#MAX_POSSIBLE_UNIT_PRICE = 50\n",
    "#estimatedUnitPrice = np.random.randint(MAX_POSSIBLE_UNIT_PRICE, size=3) # choose random initial guesses\n",
    "\n",
    "#PLACEHOLDER_1#start: set your own stopping conditions and learning rate\n",
    "#condition 1: maximal iterations, stop.\n",
    "MAX_ITERATION = 100000\n",
    "#condition 2: if the difference between your prediction and the cashier's price is smaller than a threshold, stop. \n",
    "MIN_DELTA = 0.000001\n",
    "# learning rate\n",
    "ALPHA = .5 #1e-3\n",
    "#PLACEHOLDER_1#end\n",
    "\n",
    "# Y coordinates for plotting\n",
    "deltaHistory = []\n",
    "\n",
    "# step 2: iterative method\n",
    "for i in range(0, MAX_ITERATION):\n",
    "    # order a meal (simulating training data)\n",
    "    randomMealPortions = np.random.randint(10, size=3)\n",
    "\n",
    "    # calculate the estimated price     \n",
    "    expectedTotalPrice = np.sum(estimatedUnitPrice * randomMealPortions )\n",
    "\n",
    "    # calculate cashier/true price;     \n",
    "    cashierPrice = np.sum(groundUnitPrice * randomMealPortions)\n",
    "\n",
    "    #%%%PLACEHOLDER_2#start\n",
    "    \n",
    "    # calculate current error\n",
    "    iterError = expectedTotalPrice - cashierPrice\n",
    "    \n",
    "    #Declaring Delta\n",
    "    delta = abs(iterError)\n",
    "    \n",
    "    # append iterError to the history array\n",
    "    deltaHistory.append(delta)\n",
    "    \n",
    "    #update unit prices \n",
    "    \n",
    "    Theta_1 = estimatedUnitPrice[0] - ALPHA*(estimatedUnitPrice[0] - groundUnitPrice[0])*randomMealPortions[0]\n",
    "    Theta_2 = estimatedUnitPrice[1] - ALPHA*(estimatedUnitPrice[1] - groundUnitPrice[1])*randomMealPortions[1]\n",
    "    Theta_3 = estimatedUnitPrice[2] - ALPHA*(estimatedUnitPrice[2] - groundUnitPrice[2])*randomMealPortions[2]\n",
    "     \n",
    "    estimatedUnitPrice = np.array([Theta_1,Theta_2,Theta_3])\n",
    "    \n",
    "    #%%%%PLACEHOLDER_2#end\n",
    "\n",
    "    #check stop conditions\n",
    "    if abs(delta) < MIN_DELTA:\n",
    "        break\n",
    "\n",
    "    print('iteration:{}, delta:{}'.format(i, abs(delta)))\n",
    "\n",
    "\n",
    "# step 3: evaluation\n",
    "error = np.mean(abs(estimatedUnitPrice - groundUnitPrice))\n",
    "print('estimation error:{}'.format(error))\n",
    "\n",
    "# visualize convergence curve: error v.s. iterations\n",
    "\n",
    "plt.plot(range(0, len(deltaHistory)), deltaHistory)\n",
    "plt.xlabel('iteration (cnt:{})'.format(len(deltaHistory)))\n",
    "plt.ylabel('abs(delta)')\n",
    "plt.title('Final:{}  est err:{}  actl Δ:{}'.format([ '%.4f' % elem for elem in estimatedUnitPrice ], round(error, 4), round(delta, 4)))\n",
    "plt.show()\n",
    "\n",
    "\n",
    "\n"
   ]
  },
  {
   "cell_type": "code",
   "execution_count": null,
   "metadata": {},
   "outputs": [],
   "source": []
  },
  {
   "cell_type": "code",
   "execution_count": null,
   "metadata": {},
   "outputs": [],
   "source": []
  },
  {
   "cell_type": "code",
   "execution_count": null,
   "metadata": {},
   "outputs": [],
   "source": []
  },
  {
   "cell_type": "code",
   "execution_count": null,
   "metadata": {},
   "outputs": [],
   "source": []
  },
  {
   "cell_type": "code",
   "execution_count": null,
   "metadata": {},
   "outputs": [],
   "source": []
  }
 ],
 "metadata": {
  "kernelspec": {
   "display_name": "Python 3",
   "language": "python",
   "name": "python3"
  },
  "language_info": {
   "codemirror_mode": {
    "name": "ipython",
    "version": 3
   },
   "file_extension": ".py",
   "mimetype": "text/x-python",
   "name": "python",
   "nbconvert_exporter": "python",
   "pygments_lexer": "ipython3",
   "version": "3.6.4"
  }
 },
 "nbformat": 4,
 "nbformat_minor": 2
}
